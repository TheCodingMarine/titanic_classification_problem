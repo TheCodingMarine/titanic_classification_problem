{
 "cells": [
  {
   "cell_type": "code",
   "execution_count": 96,
   "metadata": {},
   "outputs": [],
   "source": [
    "import pandas as pd\n",
    "import numpy as np\n",
    "import time\n",
    "\n",
    "np.random.seed(42)\n",
    "\n",
    "X_train = pd.read_pickle('../data/X_train_v2.pkl')\n",
    "y_train = pd.read_pickle('../data/y_train_v3.pkl')"
   ]
  },
  {
   "cell_type": "markdown",
   "metadata": {},
   "source": [
    "_______________________________________________________________________________________________________________________________"
   ]
  },
  {
   "cell_type": "markdown",
   "metadata": {},
   "source": [
    "## Build Models"
   ]
  },
  {
   "cell_type": "code",
   "execution_count": 97,
   "metadata": {},
   "outputs": [],
   "source": [
    "#Import cross validation and optimization\n",
    "from sklearn.model_selection import cross_val_score\n",
    "from sklearn.model_selection import cross_val_predict\n",
    "from sklearn.model_selection import cross_validate\n",
    "from sklearn.model_selection import GridSearchCV\n",
    "from sklearn.model_selection import RandomizedSearchCV\n",
    "from sklearn.model_selection import train_test_split\n",
    "\n",
    "#Import metrics\n",
    "from sklearn.metrics import accuracy_score\n",
    "from sklearn.metrics import confusion_matrix\n",
    "from sklearn.metrics import precision_score \n",
    "from sklearn.metrics import recall_score\n",
    "from sklearn.metrics import f1_score\n",
    "from sklearn.metrics import classification_report\n",
    "from sklearn.metrics import roc_auc_score\n",
    "from sklearn.metrics import roc_curve\n",
    "\n",
    "#Import models\n",
    "from sklearn.ensemble import RandomForestClassifier\n",
    "from sklearn.linear_model import LogisticRegression\n",
    "from sklearn.ensemble import GradientBoostingClassifier\n",
    "from sklearn.svm import SVC\n",
    "from sklearn.linear_model import SGDClassifier\n",
    "from sklearn.neighbors import KNeighborsClassifier\n",
    "from sklearn.tree import DecisionTreeClassifier\n",
    "from xgboost import XGBClassifier\n",
    "from multiprocessing import cpu_count\n"
   ]
  },
  {
   "cell_type": "code",
   "execution_count": 98,
   "metadata": {},
   "outputs": [],
   "source": [
    "#Create a dictionary to hold models\n",
    "models = {}"
   ]
  },
  {
   "cell_type": "code",
   "execution_count": 99,
   "metadata": {},
   "outputs": [],
   "source": [
    "#train test split\n",
    "X_train, X_test, y_train, y_test = train_test_split(X_train, y_train, test_size=0.2, random_state=42)"
   ]
  },
  {
   "cell_type": "code",
   "execution_count": 100,
   "metadata": {},
   "outputs": [],
   "source": [
    "#Create function to add model and metrics to dictionary using split data\n",
    "def train_model(model, name):\n",
    "    start = time.time()\n",
    "    model.fit(X_train, y_train)\n",
    "    end = time.time()\n",
    "    models[name] = {'model': model,\n",
    "                    'train_time': end-start,\n",
    "                    'train_accuracy': model.score(X_train, y_train),\n",
    "                    'test_accuracy': model.score(X_test, y_test),\n",
    "                    'test_precision': precision_score(y_test, model.predict(X_test)),\n",
    "                    'test_recall': recall_score(y_test, model.predict(X_test)),\n",
    "                    'test_f1': f1_score(y_test, model.predict(X_test)),\n",
    "                    'test_roc_auc': roc_auc_score(y_test, model.predict(X_test)),\n",
    "                   }\n"
   ]
  },
  {
   "cell_type": "code",
   "execution_count": 101,
   "metadata": {},
   "outputs": [],
   "source": [
    "#Instantiate models\n",
    "rf_clf = RandomForestClassifier()\n",
    "log_reg = LogisticRegression()\n",
    "gbc = GradientBoostingClassifier()\n",
    "svc_clf = SVC()\n",
    "sgd_clf = SGDClassifier()\n",
    "neigh_clf = KNeighborsClassifier()\n",
    "dct_clf = DecisionTreeClassifier()\n",
    "xgb_clf = XGBClassifier()"
   ]
  },
  {
   "cell_type": "code",
   "execution_count": 102,
   "metadata": {},
   "outputs": [],
   "source": [
    "#Create a list of models\n",
    "model_list = [rf_clf, log_reg, gbc, svc_clf, sgd_clf, neigh_clf, dct_clf, xgb_clf]"
   ]
  },
  {
   "cell_type": "code",
   "execution_count": 103,
   "metadata": {},
   "outputs": [],
   "source": [
    "#iterate through list of models, evaluate, and add to dictionary\n",
    "for model in model_list:\n",
    "    train_model(model, model.__class__.__name__)"
   ]
  },
  {
   "cell_type": "code",
   "execution_count": 104,
   "metadata": {},
   "outputs": [
    {
     "name": "stdout",
     "output_type": "stream",
     "text": [
      "Best model for train_accuracy is RandomForestClassifier with a score of 0.9789325842696629\n",
      "Best model for test_accuracy is GradientBoostingClassifier with a score of 0.8156424581005587\n",
      "Best model for test_precision is GradientBoostingClassifier with a score of 0.8153846153846154\n",
      "Best model for test_recall is RandomForestClassifier with a score of 0.7702702702702703\n",
      "Best model for test_f1 is RandomForestClassifier with a score of 0.7702702702702703\n",
      "Best model for test_roc_auc is RandomForestClassifier with a score of 0.8041827541827542\n"
     ]
    }
   ],
   "source": [
    "#For each metric, select the best model\n",
    "for metric in ['train_accuracy', 'test_accuracy', 'test_precision', 'test_recall', 'test_f1', 'test_roc_auc']:\n",
    "    best_score = 0\n",
    "    best_model = ''\n",
    "    for model in models:\n",
    "        if models[model][metric] > best_score:\n",
    "            best_score = models[model][metric]\n",
    "            best_model = model\n",
    "    print(f'Best model for {metric} is {best_model} with a score of {best_score}')"
   ]
  },
  {
   "cell_type": "code",
   "execution_count": 105,
   "metadata": {},
   "outputs": [
    {
     "data": {
      "text/plain": [
       "{'model': RandomForestClassifier(),\n",
       " 'train_time': 0.19459104537963867,\n",
       " 'train_accuracy': 0.9789325842696629,\n",
       " 'test_accuracy': 0.8100558659217877,\n",
       " 'test_precision': 0.7702702702702703,\n",
       " 'test_recall': 0.7702702702702703,\n",
       " 'test_f1': 0.7702702702702703,\n",
       " 'test_roc_auc': 0.8041827541827542}"
      ]
     },
     "execution_count": 105,
     "metadata": {},
     "output_type": "execute_result"
    }
   ],
   "source": [
    "models['RandomForestClassifier']"
   ]
  },
  {
   "cell_type": "code",
   "execution_count": 106,
   "metadata": {},
   "outputs": [
    {
     "data": {
      "text/plain": [
       "array([[88, 17],\n",
       "       [17, 57]])"
      ]
     },
     "execution_count": 106,
     "metadata": {},
     "output_type": "execute_result"
    }
   ],
   "source": [
    "#Get confusion matrix for RandomForestClassifier\n",
    "confusion_matrix(y_test, models['RandomForestClassifier']['model'].predict(X_test))"
   ]
  },
  {
   "cell_type": "code",
   "execution_count": 107,
   "metadata": {},
   "outputs": [
    {
     "data": {
      "text/plain": [
       "(418, 13)"
      ]
     },
     "execution_count": 107,
     "metadata": {},
     "output_type": "execute_result"
    }
   ],
   "source": [
    "test = pd.read_csv('../data/test.csv')\n",
    "\n",
    "#Create dataframe of test data\n",
    "X_test = pd.read_pickle('../data/X_test_v2.pkl')\n",
    "\n",
    "#Get shape of test data\n",
    "X_test.shape"
   ]
  },
  {
   "cell_type": "code",
   "execution_count": 108,
   "metadata": {},
   "outputs": [],
   "source": [
    "#Make predictions\n",
    "predictions = models['RandomForestClassifier']['model'].predict(X_test)\n"
   ]
  },
  {
   "cell_type": "code",
   "execution_count": 109,
   "metadata": {},
   "outputs": [],
   "source": [
    "#Create submission dataframe\n",
    "submission = pd.DataFrame({'PassengerId': test['PassengerId'], 'Survived': predictions})\n",
    "\n",
    "#Save submission dataframe to csv\n",
    "submission.to_csv('../data/submission.csv', index=False)"
   ]
  }
 ],
 "metadata": {
  "kernelspec": {
   "display_name": "data_science",
   "language": "python",
   "name": "python3"
  },
  "language_info": {
   "codemirror_mode": {
    "name": "ipython",
    "version": 3
   },
   "file_extension": ".py",
   "mimetype": "text/x-python",
   "name": "python",
   "nbconvert_exporter": "python",
   "pygments_lexer": "ipython3",
   "version": "3.10.6"
  },
  "orig_nbformat": 4
 },
 "nbformat": 4,
 "nbformat_minor": 2
}
