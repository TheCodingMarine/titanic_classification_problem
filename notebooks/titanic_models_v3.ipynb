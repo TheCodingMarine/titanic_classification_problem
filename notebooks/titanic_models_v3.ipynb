{
 "cells": [
  {
   "cell_type": "markdown",
   "metadata": {},
   "source": [
    "## Read in preprocessed data"
   ]
  },
  {
   "cell_type": "code",
   "execution_count": 90,
   "metadata": {},
   "outputs": [],
   "source": [
    "import pandas as pd\n",
    "import numpy as np\n",
    "import time\n",
    "\n",
    "np.random.seed(42)\n",
    "\n",
    "X_train = pd.read_pickle('../data/X_train_v3.pkl')\n",
    "y_train = pd.read_pickle('../data/y_train_v3.pkl')"
   ]
  },
  {
   "attachments": {},
   "cell_type": "markdown",
   "metadata": {},
   "source": [
    "_______________________________________________________________________________________________________________________________"
   ]
  },
  {
   "attachments": {},
   "cell_type": "markdown",
   "metadata": {},
   "source": [
    "## Build Models"
   ]
  },
  {
   "cell_type": "code",
   "execution_count": 91,
   "metadata": {},
   "outputs": [],
   "source": [
    "#Import cross validation and optimization\n",
    "from sklearn.model_selection import cross_val_score\n",
    "from sklearn.model_selection import cross_val_predict\n",
    "from sklearn.model_selection import cross_validate\n",
    "from sklearn.model_selection import GridSearchCV\n",
    "from sklearn.model_selection import RandomizedSearchCV\n",
    "from sklearn.model_selection import train_test_split\n",
    "\n",
    "#Import metrics\n",
    "from sklearn.metrics import accuracy_score\n",
    "from sklearn.metrics import confusion_matrix\n",
    "from sklearn.metrics import precision_score \n",
    "from sklearn.metrics import recall_score\n",
    "from sklearn.metrics import f1_score\n",
    "from sklearn.metrics import classification_report\n",
    "from sklearn.metrics import roc_auc_score\n",
    "from sklearn.metrics import roc_curve\n",
    "\n",
    "#Import models\n",
    "from sklearn.ensemble import RandomForestClassifier\n",
    "from sklearn.linear_model import LogisticRegression\n",
    "from sklearn.ensemble import GradientBoostingClassifier\n",
    "from sklearn.svm import SVC\n",
    "from sklearn.linear_model import SGDClassifier\n",
    "from sklearn.neighbors import KNeighborsClassifier\n",
    "from sklearn.tree import DecisionTreeClassifier\n",
    "from xgboost import XGBClassifier\n",
    "from multiprocessing import cpu_count\n"
   ]
  },
  {
   "cell_type": "code",
   "execution_count": 92,
   "metadata": {},
   "outputs": [],
   "source": [
    "#Create a dictionary to hold models\n",
    "models = {}"
   ]
  },
  {
   "cell_type": "code",
   "execution_count": 93,
   "metadata": {},
   "outputs": [],
   "source": [
    "#Create function to add model and metrics to dictionary\n",
    "def model_eval(model, name, X_test, y_test, cv):\n",
    "    #Fit model\n",
    "    model.fit(X_train, y_train)\n",
    "    \n",
    "    #Create predictions\n",
    "    y_pred = model.predict(X_train)\n",
    "    \n",
    "    #Create cross validation scores\n",
    "    cv_scores = cross_val_score(model, X_train, y_train, cv=cv, n_jobs=cpu_count())\n",
    "    \n",
    "    #Create cross validation predictions\n",
    "    cv_pred = cross_val_predict(model, X_train, y_train, cv=cv, n_jobs=cpu_count())\n",
    "    \n",
    "    #Create metrics\n",
    "    accuracy = accuracy_score(y_train, y_pred)\n",
    "    precision = precision_score(y_train, y_pred)\n",
    "    recall = recall_score(y_train, y_pred)\n",
    "    f1 = f1_score(y_train, y_pred)\n",
    "    roc_auc = roc_auc_score(y_train, y_pred)\n",
    "    \n",
    "    #Add metrics to dictionary\n",
    "    models[name] = {'model': model,\n",
    "                    'accuracy': accuracy,\n",
    "                    'precision': precision,\n",
    "                    'recall': recall,\n",
    "                    'f1': f1,\n",
    "                    'roc_auc': roc_auc,\n",
    "                    'cv_score': cv_scores.mean(),\n",
    "                    }\n",
    "    \n"
   ]
  },
  {
   "cell_type": "code",
   "execution_count": 94,
   "metadata": {},
   "outputs": [],
   "source": [
    "#Instantiate models\n",
    "rf_clf = RandomForestClassifier()\n",
    "log_reg = LogisticRegression()\n",
    "gbc = GradientBoostingClassifier()\n",
    "svc_clf = SVC()\n",
    "sgd_clf = SGDClassifier()\n",
    "neigh_clf = KNeighborsClassifier()\n",
    "dct_clf = DecisionTreeClassifier()\n",
    "xgb_clf = XGBClassifier()"
   ]
  },
  {
   "cell_type": "code",
   "execution_count": 95,
   "metadata": {},
   "outputs": [],
   "source": [
    "#Create a list of models\n",
    "model_list = [rf_clf, log_reg, gbc, svc_clf, sgd_clf, neigh_clf, dct_clf, xgb_clf]"
   ]
  },
  {
   "cell_type": "code",
   "execution_count": 96,
   "metadata": {},
   "outputs": [],
   "source": [
    "#iterate through list of models, evaluate, and add to dictionary\n",
    "for model in model_list:\n",
    "    model_eval(model, model.__class__.__name__, X_train, y_train, 10)"
   ]
  },
  {
   "cell_type": "code",
   "execution_count": 97,
   "metadata": {},
   "outputs": [
    {
     "name": "stdout",
     "output_type": "stream",
     "text": [
      "Best accuracy: RandomForestClassifier\n",
      "Best precision: DecisionTreeClassifier\n",
      "Best recall: RandomForestClassifier\n",
      "Best f1: RandomForestClassifier\n",
      "Best roc_auc: RandomForestClassifier\n",
      "Best cv_score: GradientBoostingClassifier\n"
     ]
    }
   ],
   "source": [
    "#For each metric, select the best model\n",
    "for metric in ['accuracy', 'precision', 'recall', 'f1', 'roc_auc', 'cv_score']:\n",
    "    best_score = 0\n",
    "    for model in models:\n",
    "        if models[model][metric] > best_score:\n",
    "            best_score = models[model][metric]\n",
    "            best_model = model\n",
    "    print('Best {}: {}'.format(metric, best_model))"
   ]
  },
  {
   "cell_type": "code",
   "execution_count": 98,
   "metadata": {},
   "outputs": [
    {
     "name": "stdout",
     "output_type": "stream",
     "text": [
      "{'model': RandomForestClassifier(), 'accuracy': 0.9797979797979798, 'precision': 0.990909090909091, 'recall': 0.956140350877193, 'f1': 0.9732142857142858, 'roc_auc': 0.9753379350014381, 'cv_score': 0.8081772784019975}\n"
     ]
    }
   ],
   "source": [
    "print(models['RandomForestClassifier'])"
   ]
  },
  {
   "cell_type": "code",
   "execution_count": 99,
   "metadata": {},
   "outputs": [
    {
     "data": {
      "text/plain": [
       "array([[546,   3],\n",
       "       [ 15, 327]])"
      ]
     },
     "execution_count": 99,
     "metadata": {},
     "output_type": "execute_result"
    }
   ],
   "source": [
    "#Get confusion matrix for RandomForestClassifier\n",
    "y_pred = models['RandomForestClassifier']['model'].predict(X_train)\n",
    "confusion_matrix(y_train, y_pred)"
   ]
  },
  {
   "cell_type": "code",
   "execution_count": 100,
   "metadata": {},
   "outputs": [],
   "source": [
    "#Get models from dict with roc_auc > 0.95\n",
    "best_models = {}\n",
    "for model in models:\n",
    "    if models[model]['roc_auc'] > 0.95:\n",
    "        best_models[model] = models[model]\n"
   ]
  },
  {
   "cell_type": "code",
   "execution_count": 101,
   "metadata": {},
   "outputs": [
    {
     "name": "stdout",
     "output_type": "stream",
     "text": [
      "RandomForestClassifier\n",
      "roc_auc:  0.9753379350014381\n",
      "DecisionTreeClassifier\n",
      "roc_auc:  0.9747866935097307\n",
      "XGBClassifier\n",
      "roc_auc:  0.95872878918608\n"
     ]
    }
   ],
   "source": [
    "#Print model and roc_auc\n",
    "for model in best_models:\n",
    "    print(model)\n",
    "    print('roc_auc: ', best_models[model]['roc_auc'])\n",
    "    print"
   ]
  },
  {
   "cell_type": "code",
   "execution_count": 102,
   "metadata": {},
   "outputs": [
    {
     "name": "stdout",
     "output_type": "stream",
     "text": [
      "RandomForestClassifier\n",
      "accuracy:  0.9797979797979798\n",
      "LogisticRegression\n",
      "accuracy:  0.8058361391694725\n",
      "GradientBoostingClassifier\n",
      "accuracy:  0.8911335578002245\n",
      "SVC\n",
      "accuracy:  0.8372615039281706\n",
      "SGDClassifier\n",
      "accuracy:  0.6464646464646465\n",
      "KNeighborsClassifier\n",
      "accuracy:  0.8574635241301908\n",
      "DecisionTreeClassifier\n",
      "accuracy:  0.9797979797979798\n",
      "XGBClassifier\n",
      "accuracy:  0.9640852974186308\n"
     ]
    }
   ],
   "source": [
    "#Print accuracy score for models\n",
    "for model in models:\n",
    "    print(model)\n",
    "    print('accuracy: ', models[model]['accuracy'])"
   ]
  },
  {
   "cell_type": "code",
   "execution_count": 103,
   "metadata": {},
   "outputs": [
    {
     "name": "stdout",
     "output_type": "stream",
     "text": [
      "RandomForestClassifier\n",
      "f1:  0.9732142857142858\n",
      "LogisticRegression\n",
      "f1:  0.7350689127105667\n",
      "GradientBoostingClassifier\n",
      "f1:  0.8500772797527048\n",
      "SVC\n",
      "f1:  0.7744945567651633\n",
      "SGDClassifier\n",
      "f1:  0.6181818181818182\n",
      "KNeighborsClassifier\n",
      "f1:  0.8078668683812406\n",
      "DecisionTreeClassifier\n",
      "f1:  0.973134328358209\n",
      "XGBClassifier\n",
      "f1:  0.9523809523809523\n"
     ]
    }
   ],
   "source": [
    "#Print f1 score for models\n",
    "for model in models:\n",
    "    print(model)\n",
    "    print('f1: ', models[model]['f1'])"
   ]
  },
  {
   "cell_type": "code",
   "execution_count": 104,
   "metadata": {},
   "outputs": [
    {
     "name": "stdout",
     "output_type": "stream",
     "text": [
      "RandomForestClassifier\n",
      "cv_score:  0.8081772784019975\n",
      "LogisticRegression\n",
      "cv_score:  0.8002372034956304\n",
      "GradientBoostingClassifier\n",
      "cv_score:  0.8294506866416977\n",
      "SVC\n",
      "cv_score:  0.8226966292134831\n",
      "SGDClassifier\n",
      "cv_score:  0.7665043695380774\n",
      "KNeighborsClassifier\n",
      "cv_score:  0.8069912609238452\n",
      "DecisionTreeClassifier\n",
      "cv_score:  0.7901498127340825\n",
      "XGBClassifier\n",
      "cv_score:  0.8125967540574284\n"
     ]
    }
   ],
   "source": [
    "#Print cv_score for each model\n",
    "for model in models:\n",
    "    print(model)\n",
    "    print('cv_score: ', models[model]['cv_score'])\n",
    "    print"
   ]
  },
  {
   "cell_type": "code",
   "execution_count": 105,
   "metadata": {},
   "outputs": [],
   "source": [
    "#Make predictions on test set\n",
    "X_test = pd.read_pickle('../data/X_test_v3.pkl')\n",
    "\n",
    "y_pred = rf_clf.predict(X_test)"
   ]
  },
  {
   "cell_type": "code",
   "execution_count": 106,
   "metadata": {},
   "outputs": [],
   "source": [
    "test = pd.read_csv('../data/test.csv')\n",
    "\n",
    "#Create submission file\n",
    "submission = pd.DataFrame({'PassengerId': test['PassengerId'], 'Survived': y_pred})\n",
    "\n",
    "submission.to_csv('../data/submission_3.csv', index=False)"
   ]
  },
  {
   "cell_type": "code",
   "execution_count": null,
   "metadata": {},
   "outputs": [],
   "source": []
  }
 ],
 "metadata": {
  "kernelspec": {
   "display_name": "data_science",
   "language": "python",
   "name": "python3"
  },
  "language_info": {
   "codemirror_mode": {
    "name": "ipython",
    "version": 3
   },
   "file_extension": ".py",
   "mimetype": "text/x-python",
   "name": "python",
   "nbconvert_exporter": "python",
   "pygments_lexer": "ipython3",
   "version": "3.10.6"
  },
  "orig_nbformat": 4
 },
 "nbformat": 4,
 "nbformat_minor": 2
}
