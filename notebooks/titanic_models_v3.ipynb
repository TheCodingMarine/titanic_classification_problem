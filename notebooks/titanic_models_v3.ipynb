{
 "cells": [
  {
   "cell_type": "markdown",
   "metadata": {},
   "source": [
    "## Read in preprocessed data"
   ]
  },
  {
   "cell_type": "code",
   "execution_count": 63,
   "metadata": {},
   "outputs": [],
   "source": [
    "import pandas as pd\n",
    "import numpy as np\n",
    "import time\n",
    "\n",
    "np.random.seed(42)\n",
    "\n",
    "X_train = pd.read_pickle('../data/X_train_v3.pkl')\n",
    "y_train = pd.read_pickle('../data/y_train_v3.pkl')"
   ]
  },
  {
   "attachments": {},
   "cell_type": "markdown",
   "metadata": {},
   "source": [
    "_______________________________________________________________________________________________________________________________"
   ]
  },
  {
   "attachments": {},
   "cell_type": "markdown",
   "metadata": {},
   "source": [
    "## Build Models"
   ]
  },
  {
   "cell_type": "code",
   "execution_count": 64,
   "metadata": {},
   "outputs": [],
   "source": [
    "#Import cross validation and optimization\n",
    "from sklearn.model_selection import cross_val_score\n",
    "from sklearn.model_selection import cross_val_predict\n",
    "from sklearn.model_selection import cross_validate\n",
    "from sklearn.model_selection import GridSearchCV\n",
    "from sklearn.model_selection import RandomizedSearchCV\n",
    "\n",
    "#Import metrics\n",
    "from sklearn.metrics import accuracy_score\n",
    "from sklearn.metrics import confusion_matrix\n",
    "from sklearn.metrics import precision_score \n",
    "from sklearn.metrics import recall_score\n",
    "from sklearn.metrics import f1_score\n",
    "from sklearn.metrics import classification_report\n",
    "from sklearn.metrics import roc_auc_score\n",
    "from sklearn.metrics import roc_curve\n",
    "\n",
    "#Import models\n",
    "from sklearn.ensemble import RandomForestClassifier\n",
    "from sklearn.linear_model import LogisticRegression\n",
    "from sklearn.ensemble import GradientBoostingClassifier\n",
    "from sklearn.svm import SVC\n",
    "from sklearn.linear_model import SGDClassifier\n",
    "from sklearn.neighbors import KNeighborsClassifier\n",
    "from sklearn.tree import DecisionTreeClassifier\n",
    "from xgboost import XGBClassifier\n",
    "from multiprocessing import cpu_count"
   ]
  },
  {
   "cell_type": "code",
   "execution_count": 65,
   "metadata": {},
   "outputs": [],
   "source": [
    "#Create a dictionary to hold models\n",
    "models = {}"
   ]
  },
  {
   "cell_type": "code",
   "execution_count": 66,
   "metadata": {},
   "outputs": [],
   "source": [
    "#Create function to add model and metrics to dictionary\n",
    "def model_eval(model, name, X_train, y_train, cv):\n",
    "    #Fit model\n",
    "    model.fit(X_train, y_train)\n",
    "    \n",
    "    #Create predictions\n",
    "    y_pred = model.predict(X_train)\n",
    "    \n",
    "    #Create cross validation scores\n",
    "    cv_scores = cross_val_score(model, X_train, y_train, cv=cv, n_jobs=cpu_count())\n",
    "    \n",
    "    #Create cross validation predictions\n",
    "    cv_pred = cross_val_predict(model, X_train, y_train, cv=cv, n_jobs=cpu_count())\n",
    "    \n",
    "    #Create metrics\n",
    "    accuracy = accuracy_score(y_train, y_pred)\n",
    "    precision = precision_score(y_train, y_pred)\n",
    "    recall = recall_score(y_train, y_pred)\n",
    "    f1 = f1_score(y_train, y_pred)\n",
    "    roc_auc = roc_auc_score(y_train, y_pred)\n",
    "    \n",
    "    #Add metrics to dictionary\n",
    "    models[name] = {'model': model,\n",
    "                    'accuracy': accuracy,\n",
    "                    'precision': precision,\n",
    "                    'recall': recall,\n",
    "                    'f1': f1,\n",
    "                    'roc_auc': roc_auc,\n",
    "                    'cv_score': cv_scores.mean(),\n",
    "                    'cv_pred': cv_pred\n",
    "                    }\n",
    "    \n"
   ]
  },
  {
   "cell_type": "code",
   "execution_count": 67,
   "metadata": {},
   "outputs": [],
   "source": [
    "#Instantiate models\n",
    "rf_clf = RandomForestClassifier()\n",
    "log_reg = LogisticRegression()\n",
    "gbc = GradientBoostingClassifier()\n",
    "svc_clf = SVC()\n",
    "sgd_clf = SGDClassifier()\n",
    "neigh_clf = KNeighborsClassifier()\n",
    "dct_clf = DecisionTreeClassifier()\n",
    "xgb_clf = XGBClassifier()"
   ]
  },
  {
   "cell_type": "code",
   "execution_count": 68,
   "metadata": {},
   "outputs": [],
   "source": [
    "#Create a list of models\n",
    "model_list = [rf_clf, log_reg, gbc, svc_clf, sgd_clf, neigh_clf, dct_clf, xgb_clf]"
   ]
  },
  {
   "cell_type": "code",
   "execution_count": 69,
   "metadata": {},
   "outputs": [],
   "source": [
    "#iterate through list of models, evaluate, and add to dictionary\n",
    "for model in model_list:\n",
    "    model_eval(model, model.__class__.__name__, X_train, y_train, 10)"
   ]
  },
  {
   "cell_type": "code",
   "execution_count": 85,
   "metadata": {},
   "outputs": [
    {
     "name": "stdout",
     "output_type": "stream",
     "text": [
      "Best accuracy: RandomForestClassifier\n",
      "Best precision: DecisionTreeClassifier\n",
      "Best recall: RandomForestClassifier\n",
      "Best f1: RandomForestClassifier\n",
      "Best roc_auc: RandomForestClassifier\n",
      "Best cv_score: GradientBoostingClassifier\n"
     ]
    }
   ],
   "source": [
    "#For each metric, select the best model\n",
    "for metric in ['accuracy', 'precision', 'recall', 'f1', 'roc_auc', 'cv_score']:\n",
    "    best_score = 0\n",
    "    for model in models:\n",
    "        if models[model][metric] > best_score:\n",
    "            best_score = models[model][metric]\n",
    "            best_model = model\n",
    "    print('Best {}: {}'.format(metric, best_model))"
   ]
  },
  {
   "cell_type": "code",
   "execution_count": 74,
   "metadata": {},
   "outputs": [
    {
     "data": {
      "text/plain": [
       "array([[546,   3],\n",
       "       [ 15, 327]])"
      ]
     },
     "execution_count": 74,
     "metadata": {},
     "output_type": "execute_result"
    }
   ],
   "source": [
    "#Get confusion matrix for RandomForestClassifier\n",
    "y_pred = models['RandomForestClassifier']['model'].predict(X_train)\n",
    "confusion_matrix(y_train, y_pred)"
   ]
  },
  {
   "cell_type": "code",
   "execution_count": 75,
   "metadata": {},
   "outputs": [],
   "source": [
    "#Get models from dict with roc_auc > 0.95\n",
    "best_models = {}\n",
    "for model in models:\n",
    "    if models[model]['roc_auc'] > 0.95:\n",
    "        best_models[model] = models[model]\n"
   ]
  },
  {
   "cell_type": "code",
   "execution_count": 76,
   "metadata": {},
   "outputs": [
    {
     "name": "stdout",
     "output_type": "stream",
     "text": [
      "RandomForestClassifier\n",
      "roc_auc:  0.9753379350014381\n",
      "DecisionTreeClassifier\n",
      "roc_auc:  0.9747866935097307\n",
      "XGBClassifier\n",
      "roc_auc:  0.95872878918608\n"
     ]
    }
   ],
   "source": [
    "#Print model and roc_auc\n",
    "for model in best_models:\n",
    "    print(model)\n",
    "    print('roc_auc: ', best_models[model]['roc_auc'])\n",
    "    print"
   ]
  },
  {
   "cell_type": "code",
   "execution_count": 77,
   "metadata": {},
   "outputs": [
    {
     "name": "stdout",
     "output_type": "stream",
     "text": [
      "RandomForestClassifier\n",
      "cv_score:  0.8160049937578027\n",
      "LogisticRegression\n",
      "cv_score:  0.8002372034956304\n",
      "GradientBoostingClassifier\n",
      "cv_score:  0.8294506866416977\n",
      "SVC\n",
      "cv_score:  0.8226966292134831\n",
      "SGDClassifier\n",
      "cv_score:  0.7429588014981274\n",
      "KNeighborsClassifier\n",
      "cv_score:  0.8069912609238452\n",
      "DecisionTreeClassifier\n",
      "cv_score:  0.7923845193508114\n",
      "XGBClassifier\n",
      "cv_score:  0.8125967540574284\n"
     ]
    }
   ],
   "source": [
    "#Print model and cv_score\n",
    "for model in models:\n",
    "    print(model)\n",
    "    print('cv_score: ', models[model]['cv_score'])\n",
    "    print"
   ]
  },
  {
   "cell_type": "code",
   "execution_count": 78,
   "metadata": {},
   "outputs": [],
   "source": [
    "#Optimize RandomForestClassifier\n",
    "# start = time.time()\n",
    "# param_grid = [{'n_estimators': [3, 10, 30, 100, 300, 1000],\n",
    "#                 'max_features': [2, 4, 6, 8, 10],\n",
    "#                 'max_depth': [2, 4, 6, 8, 10],\n",
    "#                 'max_leaf_nodes': [2, 4, 6, 8, 10, 20, 50],\n",
    "#                 'n_jobs': [-1]}]\n",
    "\n",
    "# rf_clf = RandomForestClassifier()\n",
    "\n",
    "# scoring = ['roc_auc', 'accuracy', 'precision', 'recall', 'f1']\n",
    "\n",
    "# grid_search = GridSearchCV(rf_clf, param_grid, cv=10, \n",
    "#                            scoring=scoring,\n",
    "#                            refit='roc_auc', \n",
    "#                            n_jobs=cpu_count())\n",
    "\n",
    "# grid_search.fit(X_train, y_train)\n",
    "\n",
    "# best_params = grid_search.best_params_\n",
    "\n",
    "# stop = time.time()\n",
    "# total_time = stop - start\n",
    "\n",
    "# print(best_params)\n",
    "# print(total_time)\n"
   ]
  },
  {
   "cell_type": "code",
   "execution_count": 79,
   "metadata": {},
   "outputs": [],
   "source": [
    "# best_params = best_params\n",
    "# print(best_params)"
   ]
  },
  {
   "cell_type": "code",
   "execution_count": 80,
   "metadata": {},
   "outputs": [],
   "source": [
    "# #Fit model with best params\n",
    "# rf_clf = RandomForestClassifier(**best_params)\n",
    "\n",
    "# #Fit the model\n",
    "# rf_clf.fit(X_train, y_train)\n",
    "\n",
    "# #Make predictions\n",
    "# y_pred = rf_clf.predict(X_train)\n",
    "\n",
    "# #Evalutate model\n",
    "# accuracy = accuracy_score(y_train, y_pred)\n",
    "# precision = precision_score(y_train, y_pred)\n",
    "# recall = recall_score(y_train, y_pred)\n",
    "# f1 = f1_score(y_train, y_pred)\n",
    "# roc_auc = roc_auc_score(y_train, y_pred)\n",
    "\n",
    "# #Create dict of metrics\n",
    "# metrics = {'accuracy': accuracy,\n",
    "#             'precision': precision,\n",
    "#             'recall': recall,\n",
    "#             'f1': f1,\n",
    "#             'roc_auc': roc_auc}\n",
    "\n",
    "# print(metrics)"
   ]
  }
 ],
 "metadata": {
  "kernelspec": {
   "display_name": "data_science",
   "language": "python",
   "name": "python3"
  },
  "language_info": {
   "codemirror_mode": {
    "name": "ipython",
    "version": 3
   },
   "file_extension": ".py",
   "mimetype": "text/x-python",
   "name": "python",
   "nbconvert_exporter": "python",
   "pygments_lexer": "ipython3",
   "version": "3.10.6"
  },
  "orig_nbformat": 4
 },
 "nbformat": 4,
 "nbformat_minor": 2
}
