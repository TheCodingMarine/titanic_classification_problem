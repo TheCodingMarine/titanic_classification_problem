{
 "cells": [
  {
   "cell_type": "markdown",
   "metadata": {},
   "source": [
    "## Read in preprocessed data"
   ]
  },
  {
   "cell_type": "code",
   "execution_count": 105,
   "metadata": {},
   "outputs": [],
   "source": [
    "import pandas as pd\n",
    "import numpy as np\n",
    "\n",
    "np.random.seed(42)\n",
    "\n",
    "X_train = pd.read_pickle('../data/X_train_v3.pkl')\n",
    "y_train = pd.read_pickle('../data/y_train_v3.pkl')"
   ]
  },
  {
   "attachments": {},
   "cell_type": "markdown",
   "metadata": {},
   "source": [
    "_______________________________________________________________________________________________________________________________"
   ]
  },
  {
   "attachments": {},
   "cell_type": "markdown",
   "metadata": {},
   "source": [
    "## Build Models"
   ]
  },
  {
   "cell_type": "code",
   "execution_count": 106,
   "metadata": {},
   "outputs": [],
   "source": [
    "#Import cross validation and optimization\n",
    "from sklearn.model_selection import cross_val_score\n",
    "from sklearn.model_selection import cross_val_predict\n",
    "from sklearn.model_selection import cross_validate\n",
    "from sklearn.model_selection import GridSearchCV\n",
    "from sklearn.model_selection import RandomizedSearchCV\n",
    "\n",
    "#Import metrics\n",
    "from sklearn.metrics import accuracy_score\n",
    "from sklearn.metrics import confusion_matrix\n",
    "from sklearn.metrics import precision_score \n",
    "from sklearn.metrics import recall_score\n",
    "from sklearn.metrics import f1_score\n",
    "from sklearn.metrics import classification_report\n",
    "from sklearn.metrics import roc_auc_score\n",
    "from sklearn.metrics import roc_curve\n",
    "\n",
    "#Import models\n",
    "from sklearn.ensemble import RandomForestClassifier\n",
    "from sklearn.linear_model import LogisticRegression\n",
    "from sklearn.ensemble import GradientBoostingClassifier\n",
    "from sklearn.svm import SVC\n",
    "from sklearn.linear_model import SGDClassifier\n",
    "from sklearn.neighbors import KNeighborsClassifier\n",
    "from sklearn.tree import DecisionTreeClassifier\n",
    "from xgboost import XGBClassifier\n",
    "from multiprocessing import cpu_count"
   ]
  },
  {
   "cell_type": "code",
   "execution_count": 107,
   "metadata": {},
   "outputs": [],
   "source": [
    "#Create a dictionary to hold models\n",
    "models = {}"
   ]
  },
  {
   "cell_type": "code",
   "execution_count": 108,
   "metadata": {},
   "outputs": [],
   "source": [
    "#Create function to add model and metrics to dictionary\n",
    "def model_eval(model, name, X_train, y_train, cv):\n",
    "    #Fit model\n",
    "    model.fit(X_train, y_train)\n",
    "    \n",
    "    #Create predictions\n",
    "    y_pred = model.predict(X_train)\n",
    "    \n",
    "    #Create cross validation scores\n",
    "    cv_scores = cross_val_score(model, X_train, y_train, cv=cv, n_jobs=cpu_count())\n",
    "    \n",
    "    #Create cross validation predictions\n",
    "    cv_pred = cross_val_predict(model, X_train, y_train, cv=cv, n_jobs=cpu_count())\n",
    "    \n",
    "    #Create metrics\n",
    "    accuracy = accuracy_score(y_train, y_pred)\n",
    "    precision = precision_score(y_train, y_pred)\n",
    "    recall = recall_score(y_train, y_pred)\n",
    "    f1 = f1_score(y_train, y_pred)\n",
    "    roc_auc = roc_auc_score(y_train, y_pred)\n",
    "    \n",
    "    #Add metrics to dictionary\n",
    "    models[name] = {'model': model,\n",
    "                    'accuracy': accuracy,\n",
    "                    'precision': precision,\n",
    "                    'recall': recall,\n",
    "                    'f1': f1,\n",
    "                    'roc_auc': roc_auc,\n",
    "                    'cv_score': cv_scores.mean(),\n",
    "                    }\n",
    "    \n",
    "    #Print metrics\n",
    "    print(name)\n",
    "    print('Accuracy: ', accuracy)\n",
    "    print('Precision: ', precision)\n",
    "    print('Recall: ', recall)\n",
    "    print"
   ]
  },
  {
   "cell_type": "code",
   "execution_count": 109,
   "metadata": {},
   "outputs": [],
   "source": [
    "#Instantiate models\n",
    "rf_clf = RandomForestClassifier()\n",
    "log_reg = LogisticRegression()\n",
    "gbc = GradientBoostingClassifier()\n",
    "svc_clf = SVC()\n",
    "sgd_clf = SGDClassifier()\n",
    "neigh_clf = KNeighborsClassifier()\n",
    "dct_clf = DecisionTreeClassifier()\n",
    "xgb_clf = XGBClassifier()"
   ]
  },
  {
   "cell_type": "code",
   "execution_count": 110,
   "metadata": {},
   "outputs": [],
   "source": [
    "#Create a list of models\n",
    "model_list = [rf_clf, log_reg, gbc, svc_clf, sgd_clf, neigh_clf, dct_clf, xgb_clf]"
   ]
  },
  {
   "cell_type": "code",
   "execution_count": 111,
   "metadata": {},
   "outputs": [
    {
     "name": "stdout",
     "output_type": "stream",
     "text": [
      "RandomForestClassifier\n",
      "Accuracy:  0.9797979797979798\n",
      "Precision:  0.990909090909091\n",
      "Recall:  0.956140350877193\n",
      "LogisticRegression\n",
      "Accuracy:  0.8058361391694725\n",
      "Precision:  0.7717041800643086\n",
      "Recall:  0.7017543859649122\n",
      "GradientBoostingClassifier\n",
      "Accuracy:  0.8911335578002245\n",
      "Precision:  0.9016393442622951\n",
      "Recall:  0.804093567251462\n",
      "SVC\n",
      "Accuracy:  0.8372615039281706\n",
      "Precision:  0.8272425249169435\n",
      "Recall:  0.7280701754385965\n",
      "SGDClassifier\n",
      "Accuracy:  0.6464646464646465\n",
      "Precision:  0.5279503105590062\n",
      "Recall:  0.7456140350877193\n",
      "KNeighborsClassifier\n",
      "Accuracy:  0.8574635241301908\n",
      "Precision:  0.8369905956112853\n",
      "Recall:  0.7807017543859649\n",
      "DecisionTreeClassifier\n",
      "Accuracy:  0.9797979797979798\n",
      "Precision:  0.9939024390243902\n",
      "Recall:  0.9532163742690059\n",
      "XGBClassifier\n",
      "Accuracy:  0.9640852974186308\n",
      "Precision:  0.9696969696969697\n",
      "Recall:  0.935672514619883\n"
     ]
    }
   ],
   "source": [
    "#iterate through list of models, evaluate, and add to dictionary\n",
    "for model in model_list:\n",
    "    model_eval(model, model.__class__.__name__, X_train, y_train, 10)"
   ]
  },
  {
   "cell_type": "code",
   "execution_count": 112,
   "metadata": {},
   "outputs": [
    {
     "name": "stdout",
     "output_type": "stream",
     "text": [
      "Best Model:  RandomForestClassifier\n"
     ]
    }
   ],
   "source": [
    "#Print model with best roc_auc score\n",
    "best_roc_auc = 0\n",
    "for model in models:\n",
    "    if models[model]['roc_auc'] > best_roc_auc:\n",
    "        best_roc_auc = models[model]['roc_auc']\n",
    "        best_model = model\n",
    "        \n",
    "print('Best Model: ', best_model)"
   ]
  },
  {
   "cell_type": "code",
   "execution_count": 113,
   "metadata": {},
   "outputs": [
    {
     "name": "stdout",
     "output_type": "stream",
     "text": [
      "Best Model:  GradientBoostingClassifier\n"
     ]
    }
   ],
   "source": [
    "#Print model with best cv score\n",
    "best_cv_score = 0\n",
    "for model in models:\n",
    "    if models[model]['cv_score'] > best_cv_score:\n",
    "        best_cv_score = models[model]['cv_score']\n",
    "        best_model = model\n",
    "\n",
    "print('Best Model: ', best_model)"
   ]
  },
  {
   "cell_type": "code",
   "execution_count": 114,
   "metadata": {},
   "outputs": [
    {
     "name": "stdout",
     "output_type": "stream",
     "text": [
      "Best Model:  RandomForestClassifier\n"
     ]
    }
   ],
   "source": [
    "#Print model with best f1 score\n",
    "best_f1 = 0\n",
    "for model in models:\n",
    "    if models[model]['f1'] > best_f1:\n",
    "        best_f1 = models[model]['f1']\n",
    "        best_model = model\n",
    "\n",
    "print('Best Model: ', best_model)"
   ]
  },
  {
   "cell_type": "code",
   "execution_count": 115,
   "metadata": {},
   "outputs": [
    {
     "data": {
      "text/plain": [
       "array([[546,   3],\n",
       "       [ 15, 327]])"
      ]
     },
     "execution_count": 115,
     "metadata": {},
     "output_type": "execute_result"
    }
   ],
   "source": [
    "#Get confusion matrix for RandomForestClassifier\n",
    "y_pred = models['RandomForestClassifier']['model'].predict(X_train)\n",
    "confusion_matrix(y_train, y_pred)"
   ]
  },
  {
   "cell_type": "code",
   "execution_count": 116,
   "metadata": {},
   "outputs": [],
   "source": [
    "#Get models from dict with roc_auc > 0.95\n",
    "best_models = {}\n",
    "for model in models:\n",
    "    if models[model]['roc_auc'] > 0.95:\n",
    "        best_models[model] = models[model]\n"
   ]
  },
  {
   "cell_type": "code",
   "execution_count": 117,
   "metadata": {},
   "outputs": [
    {
     "name": "stdout",
     "output_type": "stream",
     "text": [
      "RandomForestClassifier\n",
      "roc_auc:  0.9753379350014381\n",
      "DecisionTreeClassifier\n",
      "roc_auc:  0.9747866935097307\n",
      "XGBClassifier\n",
      "roc_auc:  0.95872878918608\n"
     ]
    }
   ],
   "source": [
    "#Print model and roc_auc\n",
    "for model in best_models:\n",
    "    print(model)\n",
    "    print('roc_auc: ', best_models[model]['roc_auc'])\n",
    "    print"
   ]
  },
  {
   "cell_type": "code",
   "execution_count": 118,
   "metadata": {},
   "outputs": [
    {
     "name": "stdout",
     "output_type": "stream",
     "text": [
      "RandomForestClassifier\n",
      "cv_score:  0.812621722846442\n",
      "LogisticRegression\n",
      "cv_score:  0.8002372034956304\n",
      "GradientBoostingClassifier\n",
      "cv_score:  0.8294506866416977\n",
      "SVC\n",
      "cv_score:  0.8226966292134831\n",
      "SGDClassifier\n",
      "cv_score:  0.7878651685393259\n",
      "KNeighborsClassifier\n",
      "cv_score:  0.8069912609238452\n",
      "DecisionTreeClassifier\n",
      "cv_score:  0.7901248439450688\n",
      "XGBClassifier\n",
      "cv_score:  0.8125967540574284\n"
     ]
    }
   ],
   "source": [
    "#Print model and cv_score\n",
    "for model in models:\n",
    "    print(model)\n",
    "    print('cv_score: ', models[model]['cv_score'])\n",
    "    print"
   ]
  },
  {
   "cell_type": "code",
   "execution_count": null,
   "metadata": {},
   "outputs": [],
   "source": []
  }
 ],
 "metadata": {
  "kernelspec": {
   "display_name": "data_science",
   "language": "python",
   "name": "python3"
  },
  "language_info": {
   "codemirror_mode": {
    "name": "ipython",
    "version": 3
   },
   "file_extension": ".py",
   "mimetype": "text/x-python",
   "name": "python",
   "nbconvert_exporter": "python",
   "pygments_lexer": "ipython3",
   "version": "3.10.6"
  },
  "orig_nbformat": 4
 },
 "nbformat": 4,
 "nbformat_minor": 2
}
