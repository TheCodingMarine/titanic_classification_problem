{
 "cells": [
  {
   "cell_type": "markdown",
   "metadata": {},
   "source": [
    "## Read in preprocessed data"
   ]
  },
  {
   "cell_type": "code",
   "execution_count": 1,
   "metadata": {},
   "outputs": [],
   "source": [
    "import pandas as pd\n",
    "import numpy as np\n",
    "import time\n",
    "\n",
    "np.random.seed(42)\n",
    "\n",
    "X_train = pd.read_pickle('../data/X_train_v3.pkl')\n",
    "y_train = pd.read_pickle('../data/y_train_v3.pkl')"
   ]
  },
  {
   "attachments": {},
   "cell_type": "markdown",
   "metadata": {},
   "source": [
    "_______________________________________________________________________________________________________________________________"
   ]
  },
  {
   "attachments": {},
   "cell_type": "markdown",
   "metadata": {},
   "source": [
    "## Build Models"
   ]
  },
  {
   "cell_type": "code",
   "execution_count": 2,
   "metadata": {},
   "outputs": [],
   "source": [
    "#Import cross validation and optimization\n",
    "from sklearn.model_selection import cross_val_score\n",
    "from sklearn.model_selection import cross_val_predict\n",
    "from sklearn.model_selection import cross_validate\n",
    "from sklearn.model_selection import GridSearchCV\n",
    "from sklearn.model_selection import RandomizedSearchCV\n",
    "\n",
    "#Import metrics\n",
    "from sklearn.metrics import accuracy_score\n",
    "from sklearn.metrics import confusion_matrix\n",
    "from sklearn.metrics import precision_score \n",
    "from sklearn.metrics import recall_score\n",
    "from sklearn.metrics import f1_score\n",
    "from sklearn.metrics import classification_report\n",
    "from sklearn.metrics import roc_auc_score\n",
    "from sklearn.metrics import roc_curve\n",
    "\n",
    "#Import models\n",
    "from sklearn.ensemble import RandomForestClassifier\n",
    "from sklearn.linear_model import LogisticRegression\n",
    "from sklearn.ensemble import GradientBoostingClassifier\n",
    "from sklearn.svm import SVC\n",
    "from sklearn.linear_model import SGDClassifier\n",
    "from sklearn.neighbors import KNeighborsClassifier\n",
    "from sklearn.tree import DecisionTreeClassifier\n",
    "from xgboost import XGBClassifier\n",
    "from multiprocessing import cpu_count"
   ]
  },
  {
   "cell_type": "code",
   "execution_count": 3,
   "metadata": {},
   "outputs": [],
   "source": [
    "#Create a dictionary to hold models\n",
    "models = {}"
   ]
  },
  {
   "cell_type": "code",
   "execution_count": 4,
   "metadata": {},
   "outputs": [],
   "source": [
    "#Create function to add model and metrics to dictionary\n",
    "def model_eval(model, name, X_train, y_train, cv):\n",
    "    #Fit model\n",
    "    model.fit(X_train, y_train)\n",
    "    \n",
    "    #Create predictions\n",
    "    y_pred = model.predict(X_train)\n",
    "    \n",
    "    #Create cross validation scores\n",
    "    cv_scores = cross_val_score(model, X_train, y_train, cv=cv, n_jobs=cpu_count())\n",
    "    \n",
    "    #Create cross validation predictions\n",
    "    cv_pred = cross_val_predict(model, X_train, y_train, cv=cv, n_jobs=cpu_count())\n",
    "    \n",
    "    #Create metrics\n",
    "    accuracy = accuracy_score(y_train, y_pred)\n",
    "    precision = precision_score(y_train, y_pred)\n",
    "    recall = recall_score(y_train, y_pred)\n",
    "    f1 = f1_score(y_train, y_pred)\n",
    "    roc_auc = roc_auc_score(y_train, y_pred)\n",
    "    \n",
    "    #Add metrics to dictionary\n",
    "    models[name] = {'model': model,\n",
    "                    'accuracy': accuracy,\n",
    "                    'precision': precision,\n",
    "                    'recall': recall,\n",
    "                    'f1': f1,\n",
    "                    'roc_auc': roc_auc,\n",
    "                    'cv_score': cv_scores.mean(),\n",
    "                    }\n",
    "    \n",
    "    #Print metrics\n",
    "    print(name)\n",
    "    print('Accuracy: ', accuracy)\n",
    "    print('Precision: ', precision)\n",
    "    print('Recall: ', recall)\n",
    "    print"
   ]
  },
  {
   "cell_type": "code",
   "execution_count": 5,
   "metadata": {},
   "outputs": [],
   "source": [
    "#Instantiate models\n",
    "rf_clf = RandomForestClassifier()\n",
    "log_reg = LogisticRegression()\n",
    "gbc = GradientBoostingClassifier()\n",
    "svc_clf = SVC()\n",
    "sgd_clf = SGDClassifier()\n",
    "neigh_clf = KNeighborsClassifier()\n",
    "dct_clf = DecisionTreeClassifier()\n",
    "xgb_clf = XGBClassifier()"
   ]
  },
  {
   "cell_type": "code",
   "execution_count": 6,
   "metadata": {},
   "outputs": [],
   "source": [
    "#Create a list of models\n",
    "model_list = [rf_clf, log_reg, gbc, svc_clf, sgd_clf, neigh_clf, dct_clf, xgb_clf]"
   ]
  },
  {
   "cell_type": "code",
   "execution_count": 7,
   "metadata": {},
   "outputs": [
    {
     "name": "stdout",
     "output_type": "stream",
     "text": [
      "RandomForestClassifier\n",
      "Accuracy:  0.9797979797979798\n",
      "Precision:  0.990909090909091\n",
      "Recall:  0.956140350877193\n",
      "LogisticRegression\n",
      "Accuracy:  0.8058361391694725\n",
      "Precision:  0.7717041800643086\n",
      "Recall:  0.7017543859649122\n",
      "GradientBoostingClassifier\n",
      "Accuracy:  0.8911335578002245\n",
      "Precision:  0.9016393442622951\n",
      "Recall:  0.804093567251462\n",
      "SVC\n",
      "Accuracy:  0.8372615039281706\n",
      "Precision:  0.8272425249169435\n",
      "Recall:  0.7280701754385965\n",
      "SGDClassifier\n",
      "Accuracy:  0.6464646464646465\n",
      "Precision:  0.5279503105590062\n",
      "Recall:  0.7456140350877193\n",
      "KNeighborsClassifier\n",
      "Accuracy:  0.8574635241301908\n",
      "Precision:  0.8369905956112853\n",
      "Recall:  0.7807017543859649\n",
      "DecisionTreeClassifier\n",
      "Accuracy:  0.9797979797979798\n",
      "Precision:  0.9939024390243902\n",
      "Recall:  0.9532163742690059\n",
      "XGBClassifier\n",
      "Accuracy:  0.9640852974186308\n",
      "Precision:  0.9696969696969697\n",
      "Recall:  0.935672514619883\n"
     ]
    }
   ],
   "source": [
    "#iterate through list of models, evaluate, and add to dictionary\n",
    "for model in model_list:\n",
    "    model_eval(model, model.__class__.__name__, X_train, y_train, 10)"
   ]
  },
  {
   "cell_type": "code",
   "execution_count": 8,
   "metadata": {},
   "outputs": [
    {
     "name": "stdout",
     "output_type": "stream",
     "text": [
      "Best Model:  RandomForestClassifier\n"
     ]
    }
   ],
   "source": [
    "#Print model with best roc_auc score\n",
    "best_roc_auc = 0\n",
    "for model in models:\n",
    "    if models[model]['roc_auc'] > best_roc_auc:\n",
    "        best_roc_auc = models[model]['roc_auc']\n",
    "        best_model = model\n",
    "        \n",
    "print('Best Model: ', best_model)"
   ]
  },
  {
   "cell_type": "code",
   "execution_count": 9,
   "metadata": {},
   "outputs": [
    {
     "name": "stdout",
     "output_type": "stream",
     "text": [
      "Best Model:  GradientBoostingClassifier\n"
     ]
    }
   ],
   "source": [
    "#Print model with best cv score\n",
    "best_cv_score = 0\n",
    "for model in models:\n",
    "    if models[model]['cv_score'] > best_cv_score:\n",
    "        best_cv_score = models[model]['cv_score']\n",
    "        best_model = model\n",
    "\n",
    "print('Best Model: ', best_model)"
   ]
  },
  {
   "cell_type": "code",
   "execution_count": 10,
   "metadata": {},
   "outputs": [
    {
     "name": "stdout",
     "output_type": "stream",
     "text": [
      "Best Model:  RandomForestClassifier\n"
     ]
    }
   ],
   "source": [
    "#Print model with best f1 score\n",
    "best_f1 = 0\n",
    "for model in models:\n",
    "    if models[model]['f1'] > best_f1:\n",
    "        best_f1 = models[model]['f1']\n",
    "        best_model = model\n",
    "\n",
    "print('Best Model: ', best_model)"
   ]
  },
  {
   "cell_type": "code",
   "execution_count": 11,
   "metadata": {},
   "outputs": [
    {
     "data": {
      "text/plain": [
       "array([[546,   3],\n",
       "       [ 15, 327]])"
      ]
     },
     "execution_count": 11,
     "metadata": {},
     "output_type": "execute_result"
    }
   ],
   "source": [
    "#Get confusion matrix for RandomForestClassifier\n",
    "y_pred = models['RandomForestClassifier']['model'].predict(X_train)\n",
    "confusion_matrix(y_train, y_pred)"
   ]
  },
  {
   "cell_type": "code",
   "execution_count": 12,
   "metadata": {},
   "outputs": [],
   "source": [
    "#Get models from dict with roc_auc > 0.95\n",
    "best_models = {}\n",
    "for model in models:\n",
    "    if models[model]['roc_auc'] > 0.95:\n",
    "        best_models[model] = models[model]\n"
   ]
  },
  {
   "cell_type": "code",
   "execution_count": 13,
   "metadata": {},
   "outputs": [
    {
     "name": "stdout",
     "output_type": "stream",
     "text": [
      "RandomForestClassifier\n",
      "roc_auc:  0.9753379350014381\n",
      "DecisionTreeClassifier\n",
      "roc_auc:  0.9747866935097307\n",
      "XGBClassifier\n",
      "roc_auc:  0.95872878918608\n"
     ]
    }
   ],
   "source": [
    "#Print model and roc_auc\n",
    "for model in best_models:\n",
    "    print(model)\n",
    "    print('roc_auc: ', best_models[model]['roc_auc'])\n",
    "    print"
   ]
  },
  {
   "cell_type": "code",
   "execution_count": 14,
   "metadata": {},
   "outputs": [
    {
     "name": "stdout",
     "output_type": "stream",
     "text": [
      "RandomForestClassifier\n",
      "cv_score:  0.8104119850187266\n",
      "LogisticRegression\n",
      "cv_score:  0.8002372034956304\n",
      "GradientBoostingClassifier\n",
      "cv_score:  0.8294506866416977\n",
      "SVC\n",
      "cv_score:  0.8226966292134831\n",
      "SGDClassifier\n",
      "cv_score:  0.7498002496878902\n",
      "KNeighborsClassifier\n",
      "cv_score:  0.8069912609238452\n",
      "DecisionTreeClassifier\n",
      "cv_score:  0.7901622971285893\n",
      "XGBClassifier\n",
      "cv_score:  0.8125967540574284\n"
     ]
    }
   ],
   "source": [
    "#Print model and cv_score\n",
    "for model in models:\n",
    "    print(model)\n",
    "    print('cv_score: ', models[model]['cv_score'])\n",
    "    print"
   ]
  },
  {
   "cell_type": "code",
   "execution_count": 15,
   "metadata": {},
   "outputs": [],
   "source": [
    "# #Optimize RandomForestClassifier\n",
    "# start = time.time()\n",
    "# param_grid = [{'n_estimators': [3, 10, 30, 100, 300, 1000],\n",
    "#                 'max_features': [2, 4, 6, 8, 10],\n",
    "#                 'max_depth': [2, 4, 6, 8, 10],\n",
    "#                 'max_leaf_nodes': [2, 4, 6, 8, 10, 20, 50],\n",
    "#                 'n_jobs': [-1]}]\n",
    "\n",
    "# rf_clf = RandomForestClassifier()\n",
    "\n",
    "# grid_search = GridSearchCV(rf_clf, param_grid, cv=10, scoring='roc_auc', n_jobs=cpu_count())\n",
    "\n",
    "# grid_search.fit(X_train, y_train)\n",
    "\n",
    "# best_params = grid_search.best_params_\n",
    "\n",
    "# stop = time.time()\n",
    "# total_time = stop - start\n",
    "\n",
    "# print(best_params)\n",
    "# print(total_time)\n"
   ]
  },
  {
   "cell_type": "code",
   "execution_count": null,
   "metadata": {},
   "outputs": [],
   "source": [
    "best_params = best_params"
   ]
  },
  {
   "cell_type": "code",
   "execution_count": 16,
   "metadata": {},
   "outputs": [],
   "source": [
    "# #create a RandomForestClassifier with best params\n",
    "# start = time.time()\n",
    "# rf_clf = RandomForestClassifier(**best_params)\n",
    "\n",
    "# #fit the model\n",
    "# rf_clf.fit(X_train, y_train)\n",
    "\n",
    "# #evaluate the model\n",
    "# y_pred = rf_clf.predict(X_train)\n",
    "\n",
    "# rf_clf_classification_report = classification_report(y_train, y_pred)\n",
    "# rf_clf_confusion_matrix = confusion_matrix(y_train, y_pred)\n",
    "\n",
    "# stop = time.time()\n",
    "# total_time = stop - start\n",
    "\n",
    "# print(rf_clf_classification_report)\n",
    "# print(rf_clf_confusion_matrix)\n",
    "# print(total_time)"
   ]
  },
  {
   "cell_type": "code",
   "execution_count": 17,
   "metadata": {},
   "outputs": [],
   "source": [
    "#Optimize RandomForestClassifier\n",
    "# start = time.time()\n",
    "# param_grid = [{'n_estimators': [5, 10, 20, 50, 100, 500, 1000, 5000],\n",
    "#                 'max_features': [2, 4, 6, 8, 10],\n",
    "#                 'max_depth': [2, 4, 6, 8, 10],\n",
    "#                 'max_leaf_nodes': [2, 4, 6, 8, 10, 20, 50],\n",
    "#                 'n_jobs': [-1]}]\n",
    "\n",
    "# rf_clf = RandomForestClassifier()\n",
    "\n",
    "# grid_search = GridSearchCV(rf_clf, param_grid, cv=10, scoring='roc_auc', n_jobs=cpu_count())\n",
    "\n",
    "# grid_search.fit(X_train, y_train)\n",
    "\n",
    "# best_params = grid_search.best_params_\n",
    "# print(best_params)"
   ]
  },
  {
   "cell_type": "code",
   "execution_count": null,
   "metadata": {},
   "outputs": [],
   "source": [
    "best_params = best_params"
   ]
  },
  {
   "cell_type": "code",
   "execution_count": 18,
   "metadata": {},
   "outputs": [
    {
     "ename": "NameError",
     "evalue": "name 'best_params' is not defined",
     "output_type": "error",
     "traceback": [
      "\u001b[0;31m---------------------------------------------------------------------------\u001b[0m",
      "\u001b[0;31mNameError\u001b[0m                                 Traceback (most recent call last)",
      "Cell \u001b[0;32mIn[18], line 2\u001b[0m\n\u001b[1;32m      1\u001b[0m \u001b[39m#create a model with best params\u001b[39;00m\n\u001b[0;32m----> 2\u001b[0m rf_clf \u001b[39m=\u001b[39m RandomForestClassifier(\u001b[39m*\u001b[39m\u001b[39m*\u001b[39mbest_params)\n\u001b[1;32m      4\u001b[0m \u001b[39m#fit the model\u001b[39;00m\n\u001b[1;32m      5\u001b[0m rf_clf\u001b[39m.\u001b[39mfit(X_train, y_train)\n",
      "\u001b[0;31mNameError\u001b[0m: name 'best_params' is not defined"
     ]
    }
   ],
   "source": [
    "#create a model with best params\n",
    "rf_clf = RandomForestClassifier(**best_params)\n",
    "\n",
    "#fit the model\n",
    "rf_clf.fit(X_train, y_train)\n",
    "\n",
    "#evaluate the model\n",
    "y_pred = rf_clf.predict(X_train)\n",
    "\n",
    "rf_clf_classification_report = classification_report(y_train, y_pred)\n",
    "rf_clf_confusion_matrix = confusion_matrix(y_train, y_pred)\n",
    "print(rf_clf_classification_report)\n",
    "print(rf_clf_confusion_matrix)"
   ]
  },
  {
   "cell_type": "code",
   "execution_count": null,
   "metadata": {},
   "outputs": [],
   "source": []
  }
 ],
 "metadata": {
  "kernelspec": {
   "display_name": "data_science",
   "language": "python",
   "name": "python3"
  },
  "language_info": {
   "codemirror_mode": {
    "name": "ipython",
    "version": 3
   },
   "file_extension": ".py",
   "mimetype": "text/x-python",
   "name": "python",
   "nbconvert_exporter": "python",
   "pygments_lexer": "ipython3",
   "version": "3.10.6"
  },
  "orig_nbformat": 4
 },
 "nbformat": 4,
 "nbformat_minor": 2
}
